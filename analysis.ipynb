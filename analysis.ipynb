{
 "cells": [
  {
   "cell_type": "markdown",
   "metadata": {},
   "source": [
    "**Importar as bibliotecas do Python que serão utilizadas para resolver o problema**"
   ]
  },
  {
   "cell_type": "code",
   "execution_count": 2,
   "metadata": {},
   "outputs": [],
   "source": [
    "import pandas as pd \n"
   ]
  },
  {
   "cell_type": "markdown",
   "metadata": {},
   "source": [
    "**Método para ler a tabela 'Dados' do arquixo xlsx que foi disponibilizado**"
   ]
  },
  {
   "cell_type": "code",
   "execution_count": 3,
   "metadata": {},
   "outputs": [
    {
     "name": "stdout",
     "output_type": "stream",
     "text": [
      "    Nome da empresa Resultado da negociação  Valor do contrato (R$)  \\\n",
      "0         Empresa 1        Contrato perdido                 2000.00   \n",
      "1         Empresa 2        Contrato perdido                 2000.00   \n",
      "2         Empresa 3        Contrato fechado                10898.93   \n",
      "3         Empresa 4        Contrato perdido                 2168.93   \n",
      "4         Empresa 5        Contrato perdido                 3237.79   \n",
      "..              ...                     ...                     ...   \n",
      "995     Empresa 996        Contrato perdido                 4829.56   \n",
      "996     Empresa 997        Contrato fechado                12468.05   \n",
      "997     Empresa 998        Contrato perdido                 3627.21   \n",
      "998     Empresa 999        Contrato perdido                 5800.80   \n",
      "999    Empresa 1000        Contrato perdido                 4210.54   \n",
      "\n",
      "     Tempo de negociação (dias)       Setor  \\\n",
      "0                            60    Serviços   \n",
      "1                            73  Financeiro   \n",
      "2                            43  Indústrias   \n",
      "3                            95       Saúde   \n",
      "4                            89       Saúde   \n",
      "..                          ...         ...   \n",
      "995                          60       Saúde   \n",
      "996                          41  Indústrias   \n",
      "997                          85    Serviços   \n",
      "998                         100  Indústrias   \n",
      "999                          80   Logística   \n",
      "\n",
      "     Tamanho da empresa (colaboradores) Localidade da sede  \n",
      "0                                  8357                 DF  \n",
      "1                                  1176                 MT  \n",
      "2                                 40489                 PA  \n",
      "3                                  4551                 SC  \n",
      "4                                  6719                 MS  \n",
      "..                                  ...                ...  \n",
      "995                                7074                 MT  \n",
      "996                               32675                 GO  \n",
      "997                                7956                 ES  \n",
      "998                                3012                 PR  \n",
      "999                                5271                 RJ  \n",
      "\n",
      "[1000 rows x 7 columns]\n"
     ]
    }
   ],
   "source": [
    "df = pd.read_excel('aevo_-_desafio_estágio_em_sales_ops.xlsx', sheet_name='Dados')\n",
    "print(df)"
   ]
  },
  {
   "cell_type": "code",
   "execution_count": 4,
   "metadata": {},
   "outputs": [
    {
     "name": "stdout",
     "output_type": "stream",
     "text": [
      "Index(['Nome da empresa', 'Resultado da negociação', 'Valor do contrato (R$)',\n",
      "       'Tempo de negociação (dias)', 'Setor',\n",
      "       'Tamanho da empresa (colaboradores)', 'Localidade da sede'],\n",
      "      dtype='object')\n",
      "['Contrato perdido' 'Contrato fechado']\n"
     ]
    }
   ],
   "source": [
    "print(df.columns)\n",
    "print(df['Resultado da negociação'].unique())"
   ]
  },
  {
   "cell_type": "markdown",
   "metadata": {},
   "source": [
    "**Checagem de integridade do Dataset, ou seja, checar se, por exemplo, \"há valores nulos\" na base de dados disponibilizada**"
   ]
  },
  {
   "cell_type": "code",
   "execution_count": 5,
   "metadata": {},
   "outputs": [
    {
     "name": "stdout",
     "output_type": "stream",
     "text": [
      "A base de dados não contém valores nulos.\n"
     ]
    }
   ],
   "source": [
    "if df.isnull().values.any():\n",
    "    print(\"A base de dados contém valores nulos.\")\n",
    "else: \n",
    "    print(\"A base de dados não contém valores nulos.\")"
   ]
  },
  {
   "cell_type": "markdown",
   "metadata": {},
   "source": [
    "**Adicionar uma feature de 'região' na base de dados, a fim de enriquecer nossa análise**"
   ]
  },
  {
   "cell_type": "code",
   "execution_count": 6,
   "metadata": {},
   "outputs": [],
   "source": [
    "def definir_regiao(estado):\n",
    "    regioes = {\n",
    "        'nordeste': ['BA', 'PE', 'CE', 'MA', 'PI', 'RN', 'PB', 'SE', 'AL'],\n",
    "        'centro-oeste': ['MT', 'MS', 'GO', 'DF'],\n",
    "        'sul': ['RS', 'SC', 'PR'],\n",
    "        'sudeste': ['SP', 'RJ', 'MG', 'ES'],\n",
    "        'norte': ['AM', 'RR', 'AP', 'PA', 'RO', 'AC']\n",
    "    }\n",
    "\n",
    "    for regiao, estados in regioes.items():\n",
    "        if estado in estados:\n",
    "            return regiao\n",
    "    return 'outra'\n",
    "\n",
    "df['região'] = df['Localidade da sede'].apply(definir_regiao)"
   ]
  },
  {
   "cell_type": "code",
   "execution_count": 7,
   "metadata": {},
   "outputs": [
    {
     "name": "stdout",
     "output_type": "stream",
     "text": [
      "0      centro-oeste\n",
      "1      centro-oeste\n",
      "2             norte\n",
      "3               sul\n",
      "4      centro-oeste\n",
      "           ...     \n",
      "995    centro-oeste\n",
      "996    centro-oeste\n",
      "997         sudeste\n",
      "998             sul\n",
      "999         sudeste\n",
      "Name: região, Length: 1000, dtype: object\n"
     ]
    }
   ],
   "source": [
    "print(df['região'])"
   ]
  },
  {
   "cell_type": "markdown",
   "metadata": {},
   "source": [
    "**Mapeamento para cálculo de matriz de correlação**"
   ]
  },
  {
   "cell_type": "code",
   "execution_count": 8,
   "metadata": {},
   "outputs": [
    {
     "name": "stdout",
     "output_type": "stream",
     "text": [
      "     Resultado da negociação  Valor do contrato (R$)  \\\n",
      "0                          0                 2000.00   \n",
      "1                          0                 2000.00   \n",
      "2                          1                10898.93   \n",
      "3                          0                 2168.93   \n",
      "4                          0                 3237.79   \n",
      "..                       ...                     ...   \n",
      "995                        0                 4829.56   \n",
      "996                        1                12468.05   \n",
      "997                        0                 3627.21   \n",
      "998                        0                 5800.80   \n",
      "999                        0                 4210.54   \n",
      "\n",
      "     Tempo de negociação (dias)  Setor  Tamanho da empresa (colaboradores)  \\\n",
      "0                            60      0                                8357   \n",
      "1                            73      1                                1176   \n",
      "2                            43      2                               40489   \n",
      "3                            95      3                                4551   \n",
      "4                            89      3                                6719   \n",
      "..                          ...    ...                                 ...   \n",
      "995                          60      3                                7074   \n",
      "996                          41      2                               32675   \n",
      "997                          85      0                                7956   \n",
      "998                         100      2                                3012   \n",
      "999                          80      5                                5271   \n",
      "\n",
      "     região  \n",
      "0         1  \n",
      "1         1  \n",
      "2         4  \n",
      "3         2  \n",
      "4         1  \n",
      "..      ...  \n",
      "995       1  \n",
      "996       1  \n",
      "997       3  \n",
      "998       2  \n",
      "999       3  \n",
      "\n",
      "[1000 rows x 6 columns]\n"
     ]
    }
   ],
   "source": [
    "mapeamento_contrato = {\"Contrato perdido\": 0, \"Contrato fechado\": 1}\n",
    "mapeamento_setor = {'Serviços': 0, 'Financeiro': 1, 'Indústrias': 2, 'Saúde': 3, 'Tecnologia': 4, 'Logística': 5}\n",
    "mapeamento_regiao = {'nordeste': 0, 'centro-oeste': 1, 'sul': 2, 'sudeste': 3, 'norte': 4}\n",
    "\n",
    "df_correlacionado = df.copy()\n",
    "\n",
    "df_correlacionado['Resultado da negociação'] = df_correlacionado['Resultado da negociação'].map(mapeamento_contrato)\n",
    "df_correlacionado['Setor'] = df_correlacionado['Setor'].map(mapeamento_setor)\n",
    "df_correlacionado['região'] = df_correlacionado['região'].map(mapeamento_regiao)\n",
    "\n",
    "df_correlacionado = df_correlacionado.drop(columns=[\"Nome da empresa\", \"Localidade da sede\"])\n",
    "print(df_correlacionado)\n",
    "\n"
   ]
  },
  {
   "cell_type": "markdown",
   "metadata": {},
   "source": [
    "**Matriz de correlação das features do banco de dados**"
   ]
  },
  {
   "cell_type": "code",
   "execution_count": 10,
   "metadata": {},
   "outputs": [
    {
     "data": {
      "text/html": [
       "<div>\n",
       "<style scoped>\n",
       "    .dataframe tbody tr th:only-of-type {\n",
       "        vertical-align: middle;\n",
       "    }\n",
       "\n",
       "    .dataframe tbody tr th {\n",
       "        vertical-align: top;\n",
       "    }\n",
       "\n",
       "    .dataframe thead th {\n",
       "        text-align: right;\n",
       "    }\n",
       "</style>\n",
       "<table border=\"1\" class=\"dataframe\">\n",
       "  <thead>\n",
       "    <tr style=\"text-align: right;\">\n",
       "      <th></th>\n",
       "      <th>Resultado da negociação</th>\n",
       "      <th>Valor do contrato (R$)</th>\n",
       "      <th>Tempo de negociação (dias)</th>\n",
       "      <th>Setor</th>\n",
       "      <th>Tamanho da empresa (colaboradores)</th>\n",
       "      <th>região</th>\n",
       "    </tr>\n",
       "  </thead>\n",
       "  <tbody>\n",
       "    <tr>\n",
       "      <th>Resultado da negociação</th>\n",
       "      <td>1.000000</td>\n",
       "      <td>0.869359</td>\n",
       "      <td>-0.714647</td>\n",
       "      <td>-0.101510</td>\n",
       "      <td>0.837956</td>\n",
       "      <td>0.025422</td>\n",
       "    </tr>\n",
       "    <tr>\n",
       "      <th>Valor do contrato (R$)</th>\n",
       "      <td>0.869359</td>\n",
       "      <td>1.000000</td>\n",
       "      <td>-0.615029</td>\n",
       "      <td>-0.094697</td>\n",
       "      <td>0.789101</td>\n",
       "      <td>0.005088</td>\n",
       "    </tr>\n",
       "    <tr>\n",
       "      <th>Tempo de negociação (dias)</th>\n",
       "      <td>-0.714647</td>\n",
       "      <td>-0.615029</td>\n",
       "      <td>1.000000</td>\n",
       "      <td>0.080427</td>\n",
       "      <td>-0.598491</td>\n",
       "      <td>-0.047777</td>\n",
       "    </tr>\n",
       "    <tr>\n",
       "      <th>Setor</th>\n",
       "      <td>-0.101510</td>\n",
       "      <td>-0.094697</td>\n",
       "      <td>0.080427</td>\n",
       "      <td>1.000000</td>\n",
       "      <td>-0.070572</td>\n",
       "      <td>0.022454</td>\n",
       "    </tr>\n",
       "    <tr>\n",
       "      <th>Tamanho da empresa (colaboradores)</th>\n",
       "      <td>0.837956</td>\n",
       "      <td>0.789101</td>\n",
       "      <td>-0.598491</td>\n",
       "      <td>-0.070572</td>\n",
       "      <td>1.000000</td>\n",
       "      <td>0.014234</td>\n",
       "    </tr>\n",
       "    <tr>\n",
       "      <th>região</th>\n",
       "      <td>0.025422</td>\n",
       "      <td>0.005088</td>\n",
       "      <td>-0.047777</td>\n",
       "      <td>0.022454</td>\n",
       "      <td>0.014234</td>\n",
       "      <td>1.000000</td>\n",
       "    </tr>\n",
       "  </tbody>\n",
       "</table>\n",
       "</div>"
      ],
      "text/plain": [
       "                                    Resultado da negociação  \\\n",
       "Resultado da negociação                            1.000000   \n",
       "Valor do contrato (R$)                             0.869359   \n",
       "Tempo de negociação (dias)                        -0.714647   \n",
       "Setor                                             -0.101510   \n",
       "Tamanho da empresa (colaboradores)                 0.837956   \n",
       "região                                             0.025422   \n",
       "\n",
       "                                    Valor do contrato (R$)  \\\n",
       "Resultado da negociação                           0.869359   \n",
       "Valor do contrato (R$)                            1.000000   \n",
       "Tempo de negociação (dias)                       -0.615029   \n",
       "Setor                                            -0.094697   \n",
       "Tamanho da empresa (colaboradores)                0.789101   \n",
       "região                                            0.005088   \n",
       "\n",
       "                                    Tempo de negociação (dias)     Setor  \\\n",
       "Resultado da negociação                              -0.714647 -0.101510   \n",
       "Valor do contrato (R$)                               -0.615029 -0.094697   \n",
       "Tempo de negociação (dias)                            1.000000  0.080427   \n",
       "Setor                                                 0.080427  1.000000   \n",
       "Tamanho da empresa (colaboradores)                   -0.598491 -0.070572   \n",
       "região                                               -0.047777  0.022454   \n",
       "\n",
       "                                    Tamanho da empresa (colaboradores)  \\\n",
       "Resultado da negociação                                       0.837956   \n",
       "Valor do contrato (R$)                                        0.789101   \n",
       "Tempo de negociação (dias)                                   -0.598491   \n",
       "Setor                                                        -0.070572   \n",
       "Tamanho da empresa (colaboradores)                            1.000000   \n",
       "região                                                        0.014234   \n",
       "\n",
       "                                      região  \n",
       "Resultado da negociação             0.025422  \n",
       "Valor do contrato (R$)              0.005088  \n",
       "Tempo de negociação (dias)         -0.047777  \n",
       "Setor                               0.022454  \n",
       "Tamanho da empresa (colaboradores)  0.014234  \n",
       "região                              1.000000  "
      ]
     },
     "execution_count": 10,
     "metadata": {},
     "output_type": "execute_result"
    }
   ],
   "source": [
    "\n",
    "df_correlacionado.corr()"
   ]
  }
 ],
 "metadata": {
  "kernelspec": {
   "display_name": "Python 3",
   "language": "python",
   "name": "python3"
  },
  "language_info": {
   "codemirror_mode": {
    "name": "ipython",
    "version": 3
   },
   "file_extension": ".py",
   "mimetype": "text/x-python",
   "name": "python",
   "nbconvert_exporter": "python",
   "pygments_lexer": "ipython3",
   "version": "3.12.3"
  }
 },
 "nbformat": 4,
 "nbformat_minor": 2
}
